{
 "cells": [
  {
   "cell_type": "code",
   "execution_count": null,
   "id": "54b40646",
   "metadata": {},
   "outputs": [],
   "source": [
    "\n",
    "import os\n",
    "import numpy as np\n",
    "import tensorflow as tf\n",
    "from tensorflow.keras.preprocessing import image\n",
    "from tensorflow.keras.applications.inception_v3 import InceptionV3\n",
    "from tensorflow.keras.applications.inception_v3 import preprocess_input\n",
    "from scipy.linalg import sqrtm\n",
    "\n"
   ]
  },
  {
   "cell_type": "code",
   "execution_count": 4,
   "id": "07529aee",
   "metadata": {},
   "outputs": [
    {
     "name": "stdout",
     "output_type": "stream",
     "text": [
      "Downloading data from https://storage.googleapis.com/tensorflow/keras-applications/inception_v3/inception_v3_weights_tf_dim_ordering_tf_kernels_notop.h5\n",
      "87910968/87910968 [==============================] - 6s 0us/step\n",
      "2/2 [==============================] - 8s 3s/step\n",
      "2/2 [==============================] - 6s 3s/step\n",
      "Fréchet Inception Distance: (87.2031949963096-2.7739715038795197e-06j)\n"
     ]
    }
   ],
   "source": [
    "def load_images_from_directory(directory):\n",
    "    images = []\n",
    "    for filename in os.listdir(directory):\n",
    "        img_path = os.path.join(directory, filename)\n",
    "        img = image.load_img(img_path, target_size=(299, 299))\n",
    "        img_array = image.img_to_array(img)\n",
    "        images.append(img_array)\n",
    "    return np.array(images)\n",
    "\n",
    "def calculate_fid(images1, images2):\n",
    "    model = InceptionV3(include_top=False, pooling='avg', input_shape=(299, 299, 3))\n",
    "\n",
    "    images1 = preprocess_input(images1)\n",
    "    images2 = preprocess_input(images2)\n",
    "\n",
    "    features1 = model.predict(images1)\n",
    "    features2 = model.predict(images2)\n",
    "\n",
    "    mu1, sigma1 = np.mean(features1, axis=0), np.cov(features1, rowvar=False)\n",
    "    mu2, sigma2 = np.mean(features2, axis=0), np.cov(features2, rowvar=False)\n",
    "\n",
    "    diff = mu1 - mu2\n",
    "    covmean, _ = sqrtm(sigma1 @ sigma2, disp=False)\n",
    "\n",
    "    if not np.isfinite(covmean).all():\n",
    "        offset = np.eye(sigma1.shape[0]) * 1e-6\n",
    "        covmean = sqrtm((sigma1 + offset) @ (sigma2 + offset))\n",
    "\n",
    "    fid = np.sum(diff**2) + np.trace(sigma1 + sigma2 - 2.0 * covmean)\n",
    "\n",
    "    return fid\n",
    "\n",
    "generated_images_dir = 'C:\\\\Users\\\\Usama Arshad\\\\Desktop\\\\Coursework\\\\Project Related Data\\\\Gamma Data\\\\Gen'\n",
    "real_images_dir = 'C:\\\\Users\\\\Usama Arshad\\\\Desktop\\\\Coursework\\\\Project Related Data\\\\Gamma Data\\\\Real'\n",
    "\n",
    "# Load images from directories\n",
    "generated_images = load_images_from_directory(generated_images_dir)\n",
    "real_images = load_images_from_directory(real_images_dir)\n",
    "\n",
    "# Calculate Fréchet Inception Distance\n",
    "fid_score = calculate_fid(real_images, generated_images)\n",
    "print(f'Fréchet Inception Distance: {fid_score}')"
   ]
  },
  {
   "cell_type": "code",
   "execution_count": null,
   "id": "f15dedaf",
   "metadata": {},
   "outputs": [
    {
     "name": "stderr",
     "output_type": "stream",
     "text": [
      "C:\\Users\\Usama Arshad\\AppData\\Local\\Temp\\ipykernel_14820\\273295241.py:12: DeprecationWarning: BICUBIC is deprecated and will be removed in Pillow 10 (2023-07-01). Use Resampling.BICUBIC instead.\n",
      "  img = img.resize((299, 299), Image.BICUBIC)\n",
      "100%|██████████| 6/6 [00:09<00:00,  1.65s/it]\n",
      "100%|██████████| 6/6 [00:09<00:00,  1.56s/it]\n"
     ]
    }
   ],
   "source": [
    "import os\n",
    "import numpy as np\n",
    "from PIL import Image\n",
    "from pytorch_fid import fid_score\n",
    "\n",
    "def load_images(image_dir):\n",
    "    image_list = []\n",
    "    for filename in os.listdir(image_dir):\n",
    "        if filename.endswith(('.png', '.jpg', '.jpeg')):\n",
    "            image_path = os.path.join(image_dir, filename)\n",
    "            img = Image.open(image_path).convert('RGB')\n",
    "            img = img.resize((299, 299), Image.BICUBIC)\n",
    "            img_array = np.array(img)\n",
    "            image_list.append(img_array)\n",
    "    return np.array(image_list)\n",
    "\n",
    "real_images_dir = 'C:\\\\Users\\\\Usama Arshad\\\\Desktop\\\\Coursework\\\\Project Related Data\\\\Gamma Data\\\\Gen'\n",
    "generated_images_dir = 'C:\\\\Users\\\\Usama Arshad\\\\Desktop\\\\Coursework\\\\Project Related Data\\\\Gamma Data\\\\Real'\n",
    "\n",
    "# Load real and generated images\n",
    "real_images = load_images(real_images_dir)\n",
    "generated_images = load_images(generated_images_dir)\n",
    "\n",
    "# Ensure images are in the range [0, 1]\n",
    "real_images = real_images / 255.0\n",
    "generated_images = generated_images / 255.0\n",
    "\n",
    "# Calculate FID score\n",
    "fid_value = fid_score.calculate_fid_given_paths([real_images_dir, generated_images_dir], batch_size=10,device = 'cpu',dims=2048)\n",
    "print(f'FID Score: {fid_value}')\n"
   ]
  },
  {
   "cell_type": "code",
   "execution_count": null,
   "id": "491bb8ac",
   "metadata": {},
   "outputs": [],
   "source": [
    "real_images_dir = 'C:\\\\Users\\\\Usama Arshad\\\\Desktop\\\\Coursework\\\\Project Related Data\\\\Gamma Data\\\\Gen'\n",
    "generated_images_dir = 'C:\\\\Users\\\\Usama Arshad\\\\Desktop\\\\Coursework\\\\Project Related Data\\\\Gamma Data\\\\Real'"
   ]
  },
  {
   "cell_type": "code",
   "execution_count": 1,
   "id": "0167a407",
   "metadata": {},
   "outputs": [],
   "source": [
    "#Code Snippets were taken from ChatGPT for this code"
   ]
  },
  {
   "cell_type": "code",
   "execution_count": null,
   "id": "36da3913",
   "metadata": {},
   "outputs": [],
   "source": []
  }
 ],
 "metadata": {
  "kernelspec": {
   "display_name": "Python 3 (ipykernel)",
   "language": "python",
   "name": "python3"
  },
  "language_info": {
   "codemirror_mode": {
    "name": "ipython",
    "version": 3
   },
   "file_extension": ".py",
   "mimetype": "text/x-python",
   "name": "python",
   "nbconvert_exporter": "python",
   "pygments_lexer": "ipython3",
   "version": "3.9.13"
  }
 },
 "nbformat": 4,
 "nbformat_minor": 5
}

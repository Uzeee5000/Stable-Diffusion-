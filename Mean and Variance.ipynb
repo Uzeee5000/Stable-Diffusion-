{
 "cells": [
  {
   "cell_type": "code",
   "execution_count": null,
   "id": "7e6bd0a6",
   "metadata": {},
   "outputs": [],
   "source": [
    "import os\n",
    "import numpy as np\n",
    "from PIL import Image"
   ]
  },
  {
   "cell_type": "code",
   "execution_count": 25,
   "id": "d7a24743",
   "metadata": {},
   "outputs": [
    {
     "name": "stderr",
     "output_type": "stream",
     "text": [
      "C:\\Users\\Usama Arshad\\AppData\\Local\\Temp\\ipykernel_30688\\826913053.py:11: DeprecationWarning: BICUBIC is deprecated and will be removed in Pillow 10 (2023-07-01). Use Resampling.BICUBIC instead.\n",
      "  img = img.resize(target_size, Image.BICUBIC)\n"
     ]
    },
    {
     "name": "stdout",
     "output_type": "stream",
     "text": [
      "Mean values: [22.59995066 22.80125173 19.63621674]\n",
      "Variance values: [1429.10252765 1500.09963283  978.94959377]\n"
     ]
    }
   ],
   "source": [
    "\n",
    "def calculate_mean_variance(image_dir, target_size=(256, 256)):\n",
    "    image_list = []\n",
    "\n",
    "    # Loop through images in the directory\n",
    "    for filename in os.listdir(image_dir):\n",
    "        if filename.endswith(('.png', '.jpg', '.jpeg')):\n",
    "            image_path = os.path.join(image_dir, filename)\n",
    "\n",
    "            # Open image and resize to a consistent size\n",
    "            img = Image.open(image_path).convert('RGB')\n",
    "            img = img.resize(target_size, Image.BICUBIC)\n",
    "            img_array = np.array(img)\n",
    "\n",
    "            # Append the image array to the list\n",
    "            image_list.append(img_array)\n",
    "\n",
    "    # Convert the list of resized image arrays to a NumPy array\n",
    "    image_data = np.array(image_list)\n",
    "\n",
    "    # Calculate mean and variance\n",
    "    mean_values = np.mean(image_data, axis=(0, 1, 2))\n",
    "    variance_values = np.var(image_data, axis=(0, 1, 2))\n",
    "\n",
    "    return mean_values, variance_values\n",
    "\n",
    "# Replace this path with the directory containing your images\n",
    "image_directory = 'C:\\\\Users\\\\Usama Arshad\\\\Desktop\\\\Coursework\\\\Project Related Data\\\\Gamma Data\\\\Real'\n",
    "\n",
    "# Calculate mean and variance\n",
    "mean, variance = calculate_mean_variance(image_directory)\n",
    "\n",
    "# Print the results\n",
    "print(f'Mean values: {mean}')\n",
    "print(f'Variance values: {variance}')"
   ]
  },
  {
   "cell_type": "code",
   "execution_count": 26,
   "id": "f770f6ec",
   "metadata": {},
   "outputs": [
    {
     "name": "stdout",
     "output_type": "stream",
     "text": [
      "Mean values: [108.70386178 113.75631278 114.65270996]\n",
      "Variance values: [912.659682   960.84329598 906.63513128]\n"
     ]
    },
    {
     "name": "stderr",
     "output_type": "stream",
     "text": [
      "C:\\Users\\Usama Arshad\\AppData\\Local\\Temp\\ipykernel_30688\\826913053.py:11: DeprecationWarning: BICUBIC is deprecated and will be removed in Pillow 10 (2023-07-01). Use Resampling.BICUBIC instead.\n",
      "  img = img.resize(target_size, Image.BICUBIC)\n"
     ]
    }
   ],
   "source": [
    "image_directory = 'C:\\\\Users\\\\Usama Arshad\\\\Desktop\\\\Coursework\\\\Project Related Data\\\\Gamma Data\\\\Gen I'\n",
    "mean, variance = calculate_mean_variance(image_directory)\n",
    "# Print the results\n",
    "print(f'Mean values: {mean}')\n",
    "print(f'Variance values: {variance}')"
   ]
  },
  {
   "cell_type": "code",
   "execution_count": 19,
   "id": "f003ff7b",
   "metadata": {},
   "outputs": [],
   "source": [
    "#Code Snippets were taken from ChatGPT for this code"
   ]
  }
 ],
 "metadata": {
  "kernelspec": {
   "display_name": "Python 3 (ipykernel)",
   "language": "python",
   "name": "python3"
  },
  "language_info": {
   "codemirror_mode": {
    "name": "ipython",
    "version": 3
   },
   "file_extension": ".py",
   "mimetype": "text/x-python",
   "name": "python",
   "nbconvert_exporter": "python",
   "pygments_lexer": "ipython3",
   "version": "3.9.13"
  }
 },
 "nbformat": 4,
 "nbformat_minor": 5
}
